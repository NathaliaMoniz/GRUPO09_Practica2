{
 "cells": [
  {
   "cell_type": "markdown",
   "metadata": {},
   "source": [
    "## IMPLEMENTACIÓN K-MEANS"
   ]
  },
  {
   "cell_type": "code",
   "execution_count": 9,
   "metadata": {},
   "outputs": [
    {
     "name": "stdout",
     "output_type": "stream",
     "text": [
      "Etiquetas obtenidas con la implementación personalizada:\n",
      "[0 0 0 0 2 1 2 0 2 2 1 2 0 0 0 1 2 2 2 2 0 0 1 1 2 0 2 2 1 0 0 0 1 2 0 1 1\n",
      " 1 1 1 0 0 0 2 1 2 0 1 0 0 1 2 1 0 0 1 2 0 2 0 0 0 1 1 2 2 2 0 0 2 2 0 2 0\n",
      " 1 0 2 2 2 1 1 0 2 2 2 1 1 0 0 1 0 1 2 1 1 2 1 2 2 2]\n",
      "\n",
      "Etiquetas obtenidas con la implementación de scikit-learn:\n",
      "[1 1 2 2 2 0 0 2 0 0 0 0 1 1 1 0 2 2 0 0 1 2 0 0 0 1 0 2 0 2 1 2 0 0 2 0 0\n",
      " 0 0 0 1 1 2 0 0 2 2 0 1 1 0 2 1 1 1 0 0 1 2 1 1 1 0 0 0 0 0 1 1 0 2 2 0 2\n",
      " 0 1 0 2 0 0 0 2 0 2 0 0 0 1 1 0 2 1 0 0 0 2 0 0 0 2]\n"
     ]
    }
   ],
   "source": [
    "import numpy as np\n",
    "from sklearn.cluster import KMeans as KMeans_sklearn\n",
    "\n",
    "# Implementación personalizada de K-Means\n",
    "class KMeansCustom:\n",
    "    def __init__(self, n_clusters, max_iters=300):\n",
    "        self.n_clusters = n_clusters\n",
    "        self.max_iters = max_iters\n",
    "\n",
    "    def fit(self, X):\n",
    "        self.centroids = X[np.random.choice(X.shape[0], self.n_clusters, replace=False)]\n",
    "        \n",
    "        for _ in range(self.max_iters):\n",
    "            distances = np.sqrt(((X - self.centroids[:, np.newaxis])**2).sum(axis=2))\n",
    "            labels = np.argmin(distances, axis=0)\n",
    "            new_centroids = np.array([X[labels == k].mean(axis=0) for k in range(self.n_clusters)])\n",
    "            if np.all(self.centroids == new_centroids):\n",
    "                break\n",
    "            \n",
    "            self.centroids = new_centroids\n",
    "        \n",
    "        self.labels_ = labels\n",
    "\n",
    "# predict...\n",
    "# make_blobs, para comparar kmeans evaluacionnn lo hace en el tutorial\n",
    "\"\"\"Ver a ojo dibujando seis características noooo\n",
    "Correlacion dibujando matriz y juntar(temperatura con color)\n",
    "1) ESCALAR\n",
    "2) PCA DOS O TRES NO VAMOS A PODER PINTAR MÁS.UTILIZANDO COMPONENTES PRINCIPALES.\n",
    "3) PRUEBA CON DOS¿?QUE VARIABILIDAD, CERCA DE 80 OKEYYYY, SOLO DOS, SINO PRUEBA CON TRES\n",
    "4) SI ES CON TRES QUE SE PUEDA MOVER CON EL RATON. EL CHIVA QUE DOSSSS Y PINTASSS.\n",
    "5) JERARQUICO, KMEANS, DBSCAN, ETC.\n",
    "6) 6-7 CLUSTERS, HAY QUE CARACTERIZARLAS Y GENERAR BOX-PLOTS PARA CADA CLASE Y VER COMO SE DIVIDEN\n",
    "LAS CARACTERÍSTICAS\n",
    "7)VER VALORES DE CIENTIFICOS Y CARACTERIZAR, SE PUEDE PROBAR ARBOL DE DECISIÓN\"\"\"\n",
    "X = np.random.rand(100, 2)\n",
    "\n",
    "# Número de clusters\n",
    "n_clusters = 3\n",
    "\n",
    "kmeans_custom = KMeansCustom(n_clusters=n_clusters)\n",
    "kmeans_custom.fit(X)\n",
    "labels_custom = kmeans_custom.labels_\n",
    "\n",
    "# Usar la implementación de K-Means de scikit-learn\n",
    "kmeans_sklearn = KMeans_sklearn(n_clusters=n_clusters)\n",
    "labels_sklearn = kmeans_sklearn.fit_predict(X)\n",
    "\n",
    "# Comparar los resultados\n",
    "print(\"Etiquetas obtenidas con la implementación personalizada:\")\n",
    "print(labels_custom)\n",
    "print(\"\\nEtiquetas obtenidas con la implementación de scikit-learn:\")\n",
    "print(labels_sklearn)\n"
   ]
  }
 ],
 "metadata": {
  "kernelspec": {
   "display_name": "Python 3",
   "language": "python",
   "name": "python3"
  },
  "language_info": {
   "codemirror_mode": {
    "name": "ipython",
    "version": 3
   },
   "file_extension": ".py",
   "mimetype": "text/x-python",
   "name": "python",
   "nbconvert_exporter": "python",
   "pygments_lexer": "ipython3",
   "version": "3.12.2"
  }
 },
 "nbformat": 4,
 "nbformat_minor": 2
}
